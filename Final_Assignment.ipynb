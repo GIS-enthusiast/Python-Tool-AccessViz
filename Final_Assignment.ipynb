{
 "cells": [
  {
   "cell_type": "code",
   "execution_count": 3,
   "metadata": {},
   "outputs": [],
   "source": [
    "#%load_ext autoreload\n",
    "%autoreload 2\n",
    "from AccessViz import filefinder, tablejoiner, visualiser, compare\n",
    "\n",
    "YKR_ID_Values_as_list = [5785640,5785641,5785642]\n",
    "#YKR_ID_Values_as_list = []\n",
    "folder_path = r\"C:\\Users\\Shane Rich\\Auto_GIS\\HelsinkiRegion_TravelTimeMatrix2018\\HelsinkiTravelTimeMatrix2018\""
   ]
  },
  {
   "cell_type": "code",
   "execution_count": null,
   "metadata": {},
   "outputs": [],
   "source": [
    "#Using AccessViz filefinder() and tablejoiner()\n",
    "\n",
    "#%load_ext autoreload\n",
    "%autoreload 2 # Auto reloads the kernal after updates in referenced modules.\n",
    "%system date\n",
    "%who_ls function\n",
    "%matplotlib inline\n",
    "list1 = filefinder(YKR_ID_Values_as_list, folder_path, output=\"list\")\n",
    "print(list1)\n",
    "#tablejoiner(output_folder=r\"C:\\Users\\Shane Rich\\Auto_GIS\\final-assignment-GIS-enthusiast\", output_format=\"shp\", list=list1)\n",
    "#fp = r\"C:\\Users\\Shane Rich\\Auto_GIS\\final-assignment-GIS-enthusiast\\5785643\""
   ]
  },
  {
   "cell_type": "code",
   "execution_count": 35,
   "metadata": {},
   "outputs": [
    {
     "data": {
      "text/plain": [
       "'\\nTo do: \\n1. introduce transport mode into titles.\\n'"
      ]
     },
     "execution_count": 35,
     "metadata": {},
     "output_type": "execute_result"
    }
   ],
   "source": [
    "#Using AccessViz visualiser()\n",
    "\n",
    "%autoreload 2\n",
    "visualiser('gpkg', r\"C:\\Users\\Shane Rich\\Auto_GIS\\final-assignment-GIS-enthusiast\\TravelMatrix.gpkg\", '5785642', 'pt_m_t', 'C:/Users/Shane Rich/Auto_GIS/final-assignment-GIS-enthusiast/', 'interactive')\n",
    "\n",
    "\n",
    "'''\n",
    "To do: \n",
    "1. introduce transport mode into titles.\n",
    "'''"
   ]
  },
  {
   "cell_type": "code",
   "execution_count": 6,
   "metadata": {},
   "outputs": [],
   "source": []
  },
  {
   "cell_type": "code",
   "execution_count": 17,
   "metadata": {},
   "outputs": [
    {
     "ename": "CPLE_AppDefinedError",
     "evalue": "b'sqlite3_exec(CREATE VIRTUAL TABLE \"rtree_5785642_geom\" USING rtree(id, minx, maxx, miny, maxy)) failed: no such module: rtree'",
     "output_type": "error",
     "traceback": [
      "\u001b[1;31m---------------------------------------------------------------------------\u001b[0m",
      "\u001b[1;31mCPLE_AppDefinedError\u001b[0m                      Traceback (most recent call last)",
      "\u001b[1;32mfiona/_err.pyx\u001b[0m in \u001b[0;36mfiona._err.GDALErrCtxManager.__exit__\u001b[1;34m()\u001b[0m\n",
      "\u001b[1;31mCPLE_AppDefinedError\u001b[0m: b'sqlite3_exec(CREATE VIRTUAL TABLE \"rtree_5785642_geom\" USING rtree(id, minx, maxx, miny, maxy)) failed: no such module: rtree'"
     ]
    },
    {
     "name": "stderr",
     "output_type": "stream",
     "text": [
      "Exception ignored in: 'fiona._shim.gdal_flush_cache'\n",
      "Traceback (most recent call last):\n",
      "  File \"fiona/_err.pyx\", line 201, in fiona._err.GDALErrCtxManager.__exit__\n",
      "fiona._err.CPLE_AppDefinedError: b'sqlite3_exec(CREATE VIRTUAL TABLE \"rtree_5785642_geom\" USING rtree(id, minx, maxx, miny, maxy)) failed: no such module: rtree'\n"
     ]
    }
   ],
   "source": [
    "#Using AccessViz compare()\n",
    "\n",
    "%autoreload 2\n",
    "list = ['pt_r_t', 'car_r_t']\n",
    "compare('gpkg', '5785642', r\"C:\\Users\\Shane Rich\\Auto_GIS\\final-assignment-GIS-enthusiast\\TravelMatrix.gpkg\", list)"
   ]
  },
  {
   "cell_type": "code",
   "execution_count": 36,
   "metadata": {},
   "outputs": [],
   "source": [
    "import glob\n",
    "import pandas as pd\n",
    "from time import strftime\n",
    "\n",
    "def folder_csv_merge(file_prefix, folder_path='', memory='no'):\n",
    "    \"\"\"\n",
    "    file_prefix: if you want to add a prefix to the name of final merged file\n",
    "    folder_path: no need to declare it. string copied from file explorer to the folder where the files are\n",
    "    \"\"\"\n",
    "    if folder_path == '':\n",
    "        folder_path = input('Please enter the path where the CSV files are:\\n')\n",
    "    folder_path = folder_path.replace(\"\\\\\",\"/\")\n",
    "    if folder_path[:-1] != \"/\":\n",
    "        folder_path = folder_path + \"/\"\n",
    "\n",
    "    file_list = glob.glob(folder_path + '*.csv')\n",
    "\n",
    "    combined = pd.concat( [ pd.read_csv(f) for f in file_list ] )\n",
    "    if memory == 'no':\n",
    "        combined.to_csv(folder_path + 'combined_{}_{}.csv'.format(file_prefix, strftime(\"%Y%m%d-%H%M%S\")), index=False)\n",
    "    else:\n",
    "        return combined\n",
    "    print('done')"
   ]
  },
  {
   "cell_type": "code",
   "execution_count": 37,
   "metadata": {},
   "outputs": [
    {
     "name": "stdin",
     "output_type": "stream",
     "text": [
      "Please enter the path where the CSV files are:\n",
      " g\n"
     ]
    },
    {
     "ename": "ValueError",
     "evalue": "No objects to concatenate",
     "output_type": "error",
     "traceback": [
      "\u001b[1;31m---------------------------------------------------------------------------\u001b[0m",
      "\u001b[1;31mValueError\u001b[0m                                Traceback (most recent call last)",
      "\u001b[1;32m<ipython-input-37-7d033fd8f689>\u001b[0m in \u001b[0;36m<module>\u001b[1;34m()\u001b[0m\n\u001b[1;32m----> 1\u001b[1;33m \u001b[0mfolder_csv_merge\u001b[0m\u001b[1;33m(\u001b[0m\u001b[1;34m'test'\u001b[0m\u001b[1;33m)\u001b[0m\u001b[1;33m\u001b[0m\u001b[1;33m\u001b[0m\u001b[0m\n\u001b[0m",
      "\u001b[1;32m<ipython-input-36-44f93cf29520>\u001b[0m in \u001b[0;36mfolder_csv_merge\u001b[1;34m(file_prefix, folder_path, memory)\u001b[0m\n\u001b[0;32m     16\u001b[0m     \u001b[0mfile_list\u001b[0m \u001b[1;33m=\u001b[0m \u001b[0mglob\u001b[0m\u001b[1;33m.\u001b[0m\u001b[0mglob\u001b[0m\u001b[1;33m(\u001b[0m\u001b[0mfolder_path\u001b[0m \u001b[1;33m+\u001b[0m \u001b[1;34m'*.csv'\u001b[0m\u001b[1;33m)\u001b[0m\u001b[1;33m\u001b[0m\u001b[1;33m\u001b[0m\u001b[0m\n\u001b[0;32m     17\u001b[0m \u001b[1;33m\u001b[0m\u001b[0m\n\u001b[1;32m---> 18\u001b[1;33m     \u001b[0mcombined\u001b[0m \u001b[1;33m=\u001b[0m \u001b[0mpd\u001b[0m\u001b[1;33m.\u001b[0m\u001b[0mconcat\u001b[0m\u001b[1;33m(\u001b[0m \u001b[1;33m[\u001b[0m \u001b[0mpd\u001b[0m\u001b[1;33m.\u001b[0m\u001b[0mread_csv\u001b[0m\u001b[1;33m(\u001b[0m\u001b[0mf\u001b[0m\u001b[1;33m)\u001b[0m \u001b[1;32mfor\u001b[0m \u001b[0mf\u001b[0m \u001b[1;32min\u001b[0m \u001b[0mfile_list\u001b[0m \u001b[1;33m]\u001b[0m \u001b[1;33m)\u001b[0m\u001b[1;33m\u001b[0m\u001b[1;33m\u001b[0m\u001b[0m\n\u001b[0m\u001b[0;32m     19\u001b[0m     \u001b[1;32mif\u001b[0m \u001b[0mmemory\u001b[0m \u001b[1;33m==\u001b[0m \u001b[1;34m'no'\u001b[0m\u001b[1;33m:\u001b[0m\u001b[1;33m\u001b[0m\u001b[1;33m\u001b[0m\u001b[0m\n\u001b[0;32m     20\u001b[0m         \u001b[0mcombined\u001b[0m\u001b[1;33m.\u001b[0m\u001b[0mto_csv\u001b[0m\u001b[1;33m(\u001b[0m\u001b[0mfolder_path\u001b[0m \u001b[1;33m+\u001b[0m \u001b[1;34m'combined_{}_{}.csv'\u001b[0m\u001b[1;33m.\u001b[0m\u001b[0mformat\u001b[0m\u001b[1;33m(\u001b[0m\u001b[0mfile_prefix\u001b[0m\u001b[1;33m,\u001b[0m \u001b[0mstrftime\u001b[0m\u001b[1;33m(\u001b[0m\u001b[1;34m\"%Y%m%d-%H%M%S\"\u001b[0m\u001b[1;33m)\u001b[0m\u001b[1;33m)\u001b[0m\u001b[1;33m,\u001b[0m \u001b[0mindex\u001b[0m\u001b[1;33m=\u001b[0m\u001b[1;32mFalse\u001b[0m\u001b[1;33m)\u001b[0m\u001b[1;33m\u001b[0m\u001b[1;33m\u001b[0m\u001b[0m\n",
      "\u001b[1;32mC:\\ProgramData\\Anaconda3\\lib\\site-packages\\pandas\\core\\reshape\\concat.py\u001b[0m in \u001b[0;36mconcat\u001b[1;34m(objs, axis, join, join_axes, ignore_index, keys, levels, names, verify_integrity, sort, copy)\u001b[0m\n\u001b[0;32m    223\u001b[0m                        \u001b[0mkeys\u001b[0m\u001b[1;33m=\u001b[0m\u001b[0mkeys\u001b[0m\u001b[1;33m,\u001b[0m \u001b[0mlevels\u001b[0m\u001b[1;33m=\u001b[0m\u001b[0mlevels\u001b[0m\u001b[1;33m,\u001b[0m \u001b[0mnames\u001b[0m\u001b[1;33m=\u001b[0m\u001b[0mnames\u001b[0m\u001b[1;33m,\u001b[0m\u001b[1;33m\u001b[0m\u001b[1;33m\u001b[0m\u001b[0m\n\u001b[0;32m    224\u001b[0m                        \u001b[0mverify_integrity\u001b[0m\u001b[1;33m=\u001b[0m\u001b[0mverify_integrity\u001b[0m\u001b[1;33m,\u001b[0m\u001b[1;33m\u001b[0m\u001b[1;33m\u001b[0m\u001b[0m\n\u001b[1;32m--> 225\u001b[1;33m                        copy=copy, sort=sort)\n\u001b[0m\u001b[0;32m    226\u001b[0m     \u001b[1;32mreturn\u001b[0m \u001b[0mop\u001b[0m\u001b[1;33m.\u001b[0m\u001b[0mget_result\u001b[0m\u001b[1;33m(\u001b[0m\u001b[1;33m)\u001b[0m\u001b[1;33m\u001b[0m\u001b[1;33m\u001b[0m\u001b[0m\n\u001b[0;32m    227\u001b[0m \u001b[1;33m\u001b[0m\u001b[0m\n",
      "\u001b[1;32mC:\\ProgramData\\Anaconda3\\lib\\site-packages\\pandas\\core\\reshape\\concat.py\u001b[0m in \u001b[0;36m__init__\u001b[1;34m(self, objs, axis, join, join_axes, keys, levels, names, ignore_index, verify_integrity, copy, sort)\u001b[0m\n\u001b[0;32m    257\u001b[0m \u001b[1;33m\u001b[0m\u001b[0m\n\u001b[0;32m    258\u001b[0m         \u001b[1;32mif\u001b[0m \u001b[0mlen\u001b[0m\u001b[1;33m(\u001b[0m\u001b[0mobjs\u001b[0m\u001b[1;33m)\u001b[0m \u001b[1;33m==\u001b[0m \u001b[1;36m0\u001b[0m\u001b[1;33m:\u001b[0m\u001b[1;33m\u001b[0m\u001b[1;33m\u001b[0m\u001b[0m\n\u001b[1;32m--> 259\u001b[1;33m             \u001b[1;32mraise\u001b[0m \u001b[0mValueError\u001b[0m\u001b[1;33m(\u001b[0m\u001b[1;34m'No objects to concatenate'\u001b[0m\u001b[1;33m)\u001b[0m\u001b[1;33m\u001b[0m\u001b[1;33m\u001b[0m\u001b[0m\n\u001b[0m\u001b[0;32m    260\u001b[0m \u001b[1;33m\u001b[0m\u001b[0m\n\u001b[0;32m    261\u001b[0m         \u001b[1;32mif\u001b[0m \u001b[0mkeys\u001b[0m \u001b[1;32mis\u001b[0m \u001b[1;32mNone\u001b[0m\u001b[1;33m:\u001b[0m\u001b[1;33m\u001b[0m\u001b[1;33m\u001b[0m\u001b[0m\n",
      "\u001b[1;31mValueError\u001b[0m: No objects to concatenate"
     ]
    }
   ],
   "source": []
  },
  {
   "cell_type": "code",
   "execution_count": null,
   "metadata": {},
   "outputs": [],
   "source": [
    "\n"
   ]
  },
  {
   "cell_type": "code",
   "execution_count": null,
   "metadata": {},
   "outputs": [],
   "source": []
  },
  {
   "cell_type": "code",
   "execution_count": null,
   "metadata": {},
   "outputs": [],
   "source": []
  },
  {
   "cell_type": "code",
   "execution_count": null,
   "metadata": {},
   "outputs": [],
   "source": []
  }
 ],
 "metadata": {
  "kernelspec": {
   "display_name": "Python 3",
   "language": "python",
   "name": "python3"
  },
  "language_info": {
   "codemirror_mode": {
    "name": "ipython",
    "version": 3
   },
   "file_extension": ".py",
   "mimetype": "text/x-python",
   "name": "python",
   "nbconvert_exporter": "python",
   "pygments_lexer": "ipython3",
   "version": "3.7.7"
  }
 },
 "nbformat": 4,
 "nbformat_minor": 4
}
